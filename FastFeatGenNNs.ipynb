{
 "cells": [
  {
   "cell_type": "code",
   "execution_count": 1,
   "metadata": {},
   "outputs": [
    {
     "name": "stderr",
     "output_type": "stream",
     "text": [
      "Using TensorFlow backend.\n"
     ]
    }
   ],
   "source": [
    "import numpy as np \n",
    "import pandas as pd \n",
    "import tensorflow as tf\n",
    "import seaborn as sns\n",
    "sns.set()\n",
    "import matplotlib.pyplot as plt\n",
    "%matplotlib inline\n",
    "import os\n",
    "from keras.preprocessing import image\n",
    "import matplotlib.image as mpimg\n",
    "from IPython.display import Image, display, HTML\n",
    "import warnings\n",
    "\n",
    "from keras.models import Model\n",
    "from keras.layers import Input\n",
    "from keras.layers.core import Dense, Dropout, Activation, Flatten\n",
    "from keras.layers.convolutional import Convolution1D, AveragePooling1D\n",
    "from keras.layers.merge import concatenate\n",
    "from keras import metrics\n",
    "from sklearn.model_selection import LeaveOneOut,KFold\n",
    "\n",
    "from keras import models\n",
    "from keras import layers\n",
    "from keras.wrappers.scikit_learn import KerasClassifier\n",
    "from sklearn.model_selection import cross_val_score\n",
    "from sklearn.datasets import make_classification\n",
    "from random import shuffle\n",
    "\n",
    "warnings.filterwarnings(\"ignore\", category=DeprecationWarning)\n",
    "warnings.filterwarnings(\"ignore\", category=UserWarning)"
   ]
  },
  {
   "cell_type": "code",
   "execution_count": 9,
   "metadata": {},
   "outputs": [
    {
     "name": "stderr",
     "output_type": "stream",
     "text": [
      "/usr/common/software/python/2.7-anaconda-4.4/lib/python2.7/site-packages/IPython/core/interactiveshell.py:2821: DtypeWarning: Columns (34,176,398,2376,10445) have mixed types. Specify dtype option on import or set low_memory=False.\n",
      "  if self.run_code(code, result):\n"
     ]
    }
   ],
   "source": [
    "FullData = \"datasets/extractedFeatures_dataset.csv\"\n",
    "posFile = \"datasets/Positive.txt\"\n",
    "negFile = \"datasets/Negative.txt\"\n",
    "x, y, f = readFeaturizedData(FullData, posFile, negFile)\n",
    "dindex = list(range(0, len(y)))\n",
    "shuffle(dindex)\n",
    "x = x[dindex]\n",
    "y = y[dindex]"
   ]
  },
  {
   "cell_type": "code",
   "execution_count": 36,
   "metadata": {},
   "outputs": [],
   "source": [
    "totalfeatures = len(f)\n",
    "def supervisedModel():\n",
    "    network = models.Sequential()\n",
    "    network.add(layers.Dense(units=256, activation='relu', input_shape=(totalfeatures,)))\n",
    "    #network.add(Dropout(0.2))\n",
    "    network.add(layers.Dense(units=256, activation='relu'))\n",
    "    #network.add(Dropout(0.2))\n",
    "    network.add(layers.Dense(units=1, activation='sigmoid'))\n",
    "    network.compile(loss='binary_crossentropy', \n",
    "                    optimizer='adam', \n",
    "                    metrics=['accuracy'])\n",
    "    return network"
   ]
  },
  {
   "cell_type": "code",
   "execution_count": 37,
   "metadata": {},
   "outputs": [],
   "source": [
    "def deepModel():\n",
    "    dropout = 0.2\n",
    "    ffgc_input = Input(shape=(41,4))\n",
    "    ffgc_conv1 = Convolution1D(256, 2, name='g_conv1')(ffgc_input)\n",
    "    ffgc_act1 = Activation('relu', name='g_activation1')(ffgc_conv1)\n",
    "    ffgc_pool1 = AveragePooling1D(2)(ffgc_act1)\n",
    "    ffgc_drop1 = Dropout(dropout)(ffgc_pool1)\n",
    "\n",
    "    ffgc_conv2 = Convolution1D(256, 2, name='g_conv2')(ffgc_drop1)\n",
    "    ffgc_act2 = Activation('relu', name='g_activation2')(ffgc_conv2)\n",
    "    ffgc_pool2 = AveragePooling1D(2)(ffgc_act2)\n",
    "    ffgc_drop2 = Dropout(dropout)(ffgc_pool2)\n",
    "    ffgc_flat1 = Flatten()(ffgc_drop2)\n",
    "\n",
    "    ffgc_dense1 = Dense(256, activation='relu', name='g_dense1', trainable=False)(ffgc_flat1)\n",
    "    ffgc_drop3 = Dropout(dropout)(ffgc_dense1)\n",
    "    ffgc_dense2 = Dense(128, activation='relu', name='g_dense2', trainable=False)(ffgc_drop3)\n",
    "    ffgc_drop4 = Dropout(dropout)(ffgc_dense2)\n",
    "    ffgc_dense3 = Dense(256, activation='relu', name='g_dense3', trainable=False)(ffgc_drop4)\n",
    "    ffgc_drop5 = Dropout(dropout)(ffgc_dense3)\n",
    "    ffgc_out = Dense(256, activation='relu', name='g_dense4', trainable=False)(ffgc_drop5)\n",
    "    predictions = Dense(1, name='predictions', trainable=False)(ffgc_out)\n",
    "    model = Model([ffgc_input], predictions)\n",
    "    model.compile(optimizer='adam', loss='binary_crossentropy', metrics=['accuracy'])\n",
    "    return model"
   ]
  },
  {
   "cell_type": "code",
   "execution_count": 38,
   "metadata": {},
   "outputs": [],
   "source": [
    "def readFeaturizedData(fullData, posData, negData):\n",
    "    fulldata = pd.read_csv(fullData, sep=',')\n",
    "    featurenames = list(fulldata.columns.values)\n",
    "    X = np.array(fulldata)\n",
    "    dY1 = np.array(pd.read_csv(posData, sep=','))\n",
    "    Y1 = np.full(len(dY1) + 1, 1)\n",
    "    dY2 = np.array(pd.read_csv(negData, sep=','))\n",
    "    Y2 = np.full(len(dY2) + 1, 0)\n",
    "    Y = np.concatenate((Y1, Y2), axis = 0)\n",
    "    return X, Y, featurenames"
   ]
  },
  {
   "cell_type": "code",
   "execution_count": 39,
   "metadata": {},
   "outputs": [],
   "source": [
    "def readSequences(filename):\n",
    "    sequences = []\n",
    "    seqfile = open(filename)\n",
    "    for line in seqfile.readlines():\n",
    "        sequences.append(line.strip())\n",
    "    return sequences"
   ]
  },
  {
   "cell_type": "code",
   "execution_count": 40,
   "metadata": {},
   "outputs": [],
   "source": [
    "def onehotcoding(sequences):\n",
    "    alphabetdict = {'A': [1, 0, 0, 0],\n",
    "                    'C': [0, 1, 0, 0],\n",
    "                    'G': [0, 0, 1, 0],\n",
    "                    'T': [0, 0, 0, 1]}\n",
    "    sequencelist = []\n",
    "    for seq in sequences:\n",
    "        seq_array = []\n",
    "        for alphabet in seq:\n",
    "            seq_array.append(alphabetdict[alphabet.upper()])\n",
    "        seq_array = np.array(seq_array)\n",
    "        sequencelist.append(seq_array)\n",
    "    sequencelist = np.array(sequencelist)\n",
    "    return sequencelist"
   ]
  },
  {
   "cell_type": "code",
   "execution_count": null,
   "metadata": {},
   "outputs": [],
   "source": []
  },
  {
   "cell_type": "code",
   "execution_count": 41,
   "metadata": {},
   "outputs": [],
   "source": [
    "positiveSeqs = readSequences(posFile)\n",
    "negativeSeqs = readSequences(negFile)\n",
    "posCodings = onehotcoding(positiveSeqs)\n",
    "negCodings = onehotcoding(negativeSeqs)\n",
    "allsequences = np.concatenate((posCodings, negCodings))"
   ]
  },
  {
   "cell_type": "code",
   "execution_count": null,
   "metadata": {},
   "outputs": [],
   "source": []
  },
  {
   "cell_type": "code",
   "execution_count": 42,
   "metadata": {},
   "outputs": [],
   "source": [
    "features, target = make_classification(n_samples = len(x),\n",
    "                                       n_features = totalfeatures,\n",
    "                                       n_informative = 350,\n",
    "                                       n_redundant = 0,\n",
    "                                       n_classes = 2,\n",
    "                                       weights = [.5, .5],\n",
    "                                       random_state = 0)"
   ]
  },
  {
   "cell_type": "code",
   "execution_count": 43,
   "metadata": {},
   "outputs": [],
   "source": [
    "neural_network = KerasClassifier(build_fn=supervisedModel, \n",
    "                                 epochs=150, \n",
    "                                 batch_size=128, \n",
    "                                 verbose=0)"
   ]
  },
  {
   "cell_type": "code",
   "execution_count": 44,
   "metadata": {},
   "outputs": [
    {
     "name": "stdout",
     "output_type": "stream",
     "text": [
      "('Accuracy:', 0.80965908874164927)\n"
     ]
    }
   ],
   "source": [
    "score = cross_val_score(neural_network, features, target, cv=10)\n",
    "print(\"Accuracy:\", score.mean())"
   ]
  },
  {
   "cell_type": "code",
   "execution_count": null,
   "metadata": {},
   "outputs": [],
   "source": []
  },
  {
   "cell_type": "code",
   "execution_count": 30,
   "metadata": {},
   "outputs": [],
   "source": [
    "#loo = LeaveOneOut()\n",
    "#n = 0\n",
    "#accuracy = 0\n",
    "#for train, test in loo.split(x):\n",
    "#    dmodel = supervisedModel()\n",
    "#    dmodel.fit(x[train], y[train], batch_size=128, epochs=10, verbose=0)\n",
    "#    score, acc = dmodel.evaluate(x[test], y[test])\n",
    "#    accuracy += float(acc)\n",
    "#    print n,\":\", acc\n",
    "#    n += 1\n",
    "#accuracy = accuracy / n\n",
    "#print(\"LOO accuracy:\", accuracy)"
   ]
  },
  {
   "cell_type": "code",
   "execution_count": 45,
   "metadata": {},
   "outputs": [
    {
     "name": "stdout",
     "output_type": "stream",
     "text": [
      "acc: 52.27%\n",
      "acc: 47.73%\n",
      "acc: 49.43%\n",
      "acc: 44.89%\n",
      "acc: 44.32%\n",
      "acc: 50.00%\n",
      "acc: 46.59%\n",
      "acc: 51.14%\n",
      "acc: 48.30%\n",
      "acc: 49.43%\n",
      "48.41% (+/- 2.45%)\n"
     ]
    }
   ],
   "source": [
    "kf = KFold(n_splits=10, shuffle=False, random_state=0)\n",
    "cvscores = []\n",
    "for train, test in kf.split(y):\n",
    "    dmodel = deepModel()\n",
    "    dmodel.fit(allsequences[train], y[train], batch_size = 100, epochs = 200, verbose = 0)\n",
    "    score = dmodel.evaluate(allsequences[test], y[test], verbose=0)\n",
    "    print(\"%s: %.2f%%\" % (dmodel.metrics_names[1], score[1]*100))\n",
    "    cvscores.append(score[1] * 100)\n",
    "print(\"%.2f%% (+/- %.2f%%)\" % (np.mean(cvscores), np.std(cvscores)))"
   ]
  },
  {
   "cell_type": "code",
   "execution_count": null,
   "metadata": {},
   "outputs": [],
   "source": []
  }
 ],
 "metadata": {
  "kernelspec": {
   "display_name": "Python 2",
   "language": "python",
   "name": "python2"
  },
  "language_info": {
   "codemirror_mode": {
    "name": "ipython",
    "version": 2
   },
   "file_extension": ".py",
   "mimetype": "text/x-python",
   "name": "python",
   "nbconvert_exporter": "python",
   "pygments_lexer": "ipython2",
   "version": "2.7.13"
  }
 },
 "nbformat": 4,
 "nbformat_minor": 2
}
